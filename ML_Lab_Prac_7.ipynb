{
  "nbformat": 4,
  "nbformat_minor": 0,
  "metadata": {
    "colab": {
      "provenance": [],
      "authorship_tag": "ABX9TyMDRVW7u/W2iY18snF5tsBV",
      "include_colab_link": true
    },
    "kernelspec": {
      "name": "python3",
      "display_name": "Python 3"
    },
    "language_info": {
      "name": "python"
    }
  },
  "cells": [
    {
      "cell_type": "markdown",
      "metadata": {
        "id": "view-in-github",
        "colab_type": "text"
      },
      "source": [
        "<a href=\"https://colab.research.google.com/github/AyushGupte-22/Machine_Learning_Lab_120/blob/main/ML_Lab_Prac_7.ipynb\" target=\"_parent\"><img src=\"https://colab.research.google.com/assets/colab-badge.svg\" alt=\"Open In Colab\"/></a>"
      ]
    },
    {
      "cell_type": "code",
      "execution_count": 2,
      "metadata": {
        "colab": {
          "base_uri": "https://localhost:8080/"
        },
        "id": "xnXcmshzIDYv",
        "outputId": "00f71cf9-caa4-44a8-accb-d31c66147b7c"
      },
      "outputs": [
        {
          "output_type": "stream",
          "name": "stdout",
          "text": [
            "Original data:\n",
            "   Cheap Promo  Buy\n",
            "0   Yes   Yes  Yes\n",
            "1   Yes    No  Yes\n",
            "2    No   Yes   No\n",
            "3   Yes   Yes  Yes\n",
            "4    No    No   No\n",
            "\n",
            "Results:\n",
            "   Cheap Promo Actual_Buy Predicted_Buy\n",
            "0   Yes   Yes        Yes           Yes\n",
            "1   Yes    No        Yes           Yes\n",
            "2    No   Yes         No            No\n",
            "3   Yes   Yes        Yes           Yes\n",
            "4    No    No         No            No\n",
            "\n",
            "Accuracy (on training data): 1.0\n",
            "\n",
            "Confusion Matrix:\n",
            " [[2 0]\n",
            " [0 3]]\n",
            "\n",
            "Classification Report:\n",
            "               precision    recall  f1-score   support\n",
            "\n",
            "          No       1.00      1.00      1.00         2\n",
            "         Yes       1.00      1.00      1.00         3\n",
            "\n",
            "    accuracy                           1.00         5\n",
            "   macro avg       1.00      1.00      1.00         5\n",
            "weighted avg       1.00      1.00      1.00         5\n",
            "\n"
          ]
        }
      ],
      "source": [
        "# 1. Imports\n",
        "import pandas as pd\n",
        "from sklearn.preprocessing import LabelEncoder\n",
        "from sklearn.naive_bayes import CategoricalNB\n",
        "from sklearn.metrics import accuracy_score, classification_report, confusion_matrix\n",
        "\n",
        "# 2. Create the dataset\n",
        "data = {\n",
        "    'Cheap': ['Yes', 'Yes', 'No', 'Yes', 'No'],\n",
        "    'Promo': ['Yes', 'No', 'Yes', 'Yes', 'No'],\n",
        "    'Buy': ['Yes', 'Yes', 'No', 'Yes', 'No'],\n",
        "}\n",
        "df = pd.DataFrame(data)\n",
        "print(\"Original data:\\n\", df)\n",
        "\n",
        "# 3. Encode categorical columns to integers\n",
        "le_cheap = LabelEncoder()\n",
        "le_promo = LabelEncoder()\n",
        "le_buy = LabelEncoder()\n",
        "\n",
        "df['Cheap_enc'] = le_cheap.fit_transform(df['Cheap'])   # e.g., Yes->1, No->0\n",
        "df['Promo_enc'] = le_promo.fit_transform(df['Promo'])\n",
        "df['Buy_enc'] = le_buy.fit_transform(df['Buy'])         # e.g., Yes->1, No->0\n",
        "\n",
        "# 4. Prepare features and target\n",
        "X = df[['Cheap_enc', 'Promo_enc']]\n",
        "y = df['Buy_enc']\n",
        "\n",
        "# 5. Train CategoricalNB\n",
        "model = CategoricalNB()\n",
        "model.fit(X, y)\n",
        "\n",
        "# 6. Predict on training data (demo)\n",
        "predictions = model.predict(X)\n",
        "\n",
        "# 7. Decode predictions back to original labels (optional)\n",
        "df['Predicted_Buy'] = le_buy.inverse_transform(predictions)\n",
        "df['Actual_Buy'] = df['Buy']   # original string labels\n",
        "\n",
        "# 8. Display results\n",
        "print(\"\\nResults:\\n\", df[['Cheap','Promo','Actual_Buy','Predicted_Buy']])\n",
        "print(\"\\nAccuracy (on training data):\", accuracy_score(y, predictions))\n",
        "print(\"\\nConfusion Matrix:\\n\", confusion_matrix(y, predictions))\n",
        "print(\"\\nClassification Report:\\n\", classification_report(y, predictions, target_names=le_buy.classes_))\n"
      ]
    }
  ]
}