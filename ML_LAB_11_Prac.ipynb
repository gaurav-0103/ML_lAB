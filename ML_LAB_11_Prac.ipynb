{
  "nbformat": 4,
  "nbformat_minor": 0,
  "metadata": {
    "colab": {
      "provenance": [],
      "authorship_tag": "ABX9TyMC6qEeUxUzppZKdnQQ12vl",
      "include_colab_link": true
    },
    "kernelspec": {
      "name": "python3",
      "display_name": "Python 3"
    },
    "language_info": {
      "name": "python"
    }
  },
  "cells": [
    {
      "cell_type": "markdown",
      "metadata": {
        "id": "view-in-github",
        "colab_type": "text"
      },
      "source": [
        "<a href=\"https://colab.research.google.com/github/AyushGupte-22/Machine_Learning_Lab_120/blob/main/ML_LAB_11_Prac.ipynb\" target=\"_parent\"><img src=\"https://colab.research.google.com/assets/colab-badge.svg\" alt=\"Open In Colab\"/></a>"
      ]
    },
    {
      "cell_type": "code",
      "execution_count": 1,
      "metadata": {
        "id": "3nyxm1Es95ap"
      },
      "outputs": [],
      "source": [
        "import numpy as np\n",
        "import pandas as pd\n",
        "import matplotlib.pyplot as plt"
      ]
    },
    {
      "cell_type": "code",
      "source": [
        "#DATASET (5 records)\n",
        "X = np.array([1., 2., 3., 4., 5.])\n",
        "y = np.array([0., 0., 0., 1., 1.])\n",
        "m = len(y)"
      ],
      "metadata": {
        "id": "FkQrQPSR-Gi_"
      },
      "execution_count": 2,
      "outputs": []
    },
    {
      "cell_type": "code",
      "source": [
        "#sigmoid fuction\n",
        "def sigmoid(z):\n",
        " return 1.0 / (1.0 + np.exp(-z))"
      ],
      "metadata": {
        "id": "O2gRwLT_-MGD"
      },
      "execution_count": 3,
      "outputs": []
    },
    {
      "cell_type": "code",
      "source": [
        "#Initial Parameters\n",
        "b0 = 0.0\n",
        "b1 = 0.0\n",
        "alpha = 0.1"
      ],
      "metadata": {
        "id": "vlUOyN6I-MCt"
      },
      "execution_count": 4,
      "outputs": []
    },
    {
      "cell_type": "code",
      "source": [
        "#Initial z and h\n",
        "z = b0 + b1 * X\n",
        "h = sigmoid(z)\n",
        "eps = 1e-15\n",
        "initial_cost = - (1.0 / m) * np.sum(y * np.log(h + eps) + (1 - y) * np.log(1 - h + eps))\n",
        "print(\"Initial h:\", h)\n",
        "print(\"Initial cost:\", initial_cost)"
      ],
      "metadata": {
        "colab": {
          "base_uri": "https://localhost:8080/"
        },
        "id": "6HsUUhYc-V_x",
        "outputId": "afe1e701-8fc6-4960-a634-4f58a35c8745"
      },
      "execution_count": 5,
      "outputs": [
        {
          "output_type": "stream",
          "name": "stdout",
          "text": [
            "Initial h: [0.5 0.5 0.5 0.5 0.5]\n",
            "Initial cost: 0.6931471805599433\n"
          ]
        }
      ]
    },
    {
      "cell_type": "code",
      "source": [
        " # Gradients at initial params\n",
        "h_minus_y = h - y\n",
        "grad_b0 = np.mean(h_minus_y)\n",
        "grad_b1 = np.mean(h_minus_y * X)\n",
        "\n",
        "print(\"grad_b0 =\", grad_b0)\n",
        "print(\"grad_b1 =\", grad_b1)"
      ],
      "metadata": {
        "colab": {
          "base_uri": "https://localhost:8080/"
        },
        "id": "9Dz21zb_-V8X",
        "outputId": "53cd0d15-600d-439c-9594-484083f1f326"
      },
      "execution_count": 6,
      "outputs": [
        {
          "output_type": "stream",
          "name": "stdout",
          "text": [
            "grad_b0 = 0.1\n",
            "grad_b1 = -0.3\n"
          ]
        }
      ]
    },
    {
      "cell_type": "code",
      "source": [
        " # One gradient descent update\n",
        "alpha = 0.1\n",
        "b0_new = b0 - alpha * grad_b0\n",
        "b1_new = b1 - alpha * grad_b1\n",
        "\n",
        "print(\"After one update: b0 =\", b0_new, \", b1 =\", b1_new)"
      ],
      "metadata": {
        "colab": {
          "base_uri": "https://localhost:8080/"
        },
        "id": "jJdvl0_2-V5h",
        "outputId": "388f4ab1-8393-41f0-e456-5ea6407e4cdd"
      },
      "execution_count": 7,
      "outputs": [
        {
          "output_type": "stream",
          "name": "stdout",
          "text": [
            "After one update: b0 = -0.010000000000000002 , b1 = 0.03\n"
          ]
        }
      ]
    },
    {
      "cell_type": "code",
      "source": [
        " # Run full gradient descent\n",
        "b0, b1 = 0.0, 0.0\n",
        "n_iter = 2000\n",
        "history = []\n",
        "for it in range(n_iter):\n",
        "  z = b0 + b1 * X\n",
        "  h = sigmoid(z)\n",
        "  grad_b0 = np.mean(h - y)\n",
        "  grad_b1 = np.mean((h - y) * X)\n",
        "  cost = -(1.0 / m) * np.sum(y * np.log(h + eps) + (1 - y) * np.log(1 - h + eps))\n",
        "\n",
        "  history.append((it, b0, b1, cost))\n",
        "  b0 -= alpha * grad_b0\n",
        "  b1 -= alpha * grad_b1"
      ],
      "metadata": {
        "id": "AXncqHsh-V1v"
      },
      "execution_count": 10,
      "outputs": []
    },
    {
      "cell_type": "code",
      "source": [
        "print(\"\\nFinal parameters after {} iterations:\".format(n_iter))\n",
        "print(\"b0 =\", b0)\n",
        "print(\"b1 =\", b1)\n",
        "decision_boundary = -b0 / b1\n",
        "print(\"Decision boundary x =\", decision_boundary)\n",
        "print(\"Final cost J =\", history[-1][3])"
      ],
      "metadata": {
        "colab": {
          "base_uri": "https://localhost:8080/"
        },
        "id": "o1uq7_y6_Dnj",
        "outputId": "f4d23d8e-0377-4ac6-f20d-0e3e839a1adb"
      },
      "execution_count": 11,
      "outputs": [
        {
          "output_type": "stream",
          "name": "stdout",
          "text": [
            "\n",
            "Final parameters after 2000 iterations:\n",
            "b0 = -8.124229652999901\n",
            "b1 = 2.379077884857112\n",
            "Decision boundary x = 3.4148649376764073\n",
            "Final cost J = 0.1197651327339016\n"
          ]
        }
      ]
    },
    {
      "cell_type": "code",
      "source": [
        "# Plot data and learned probability curve\n",
        "X_plot = np.linspace(0, 6, 200)\n",
        "y_plot = sigmoid(b0 + b1 * X_plot)\n",
        "\n",
        "plt.figure(figsize=(8, 5))\n",
        "plt.scatter(X, y, label=\"Training data\")\n",
        "plt.plot(X_plot, y_plot, color='blue', label=\"Logistic curve\")\n",
        "plt.axhline(0.5, linestyle='--', color='gray')\n",
        "plt.title(\"Logistic regression fit (manual gradient descent)\")\n",
        "plt.xlabel(\"Study hours\")\n",
        "plt.ylabel(\"P(pass)\")\n",
        "plt.grid(True)\n",
        "plt.legend()\n",
        "plt.show()"
      ],
      "metadata": {
        "colab": {
          "base_uri": "https://localhost:8080/",
          "height": 487
        },
        "id": "UfzzEPbT_RiZ",
        "outputId": "019aa4e0-b23f-4eac-a73a-1e54014e0e3b"
      },
      "execution_count": 12,
      "outputs": [
        {
          "output_type": "display_data",
          "data": {
            "text/plain": [
              "<Figure size 800x500 with 1 Axes>"
            ],
            "image/png": "[encoded data removed]"
          },
          "metadata": {}
        }
      ]
    }
  ]
}