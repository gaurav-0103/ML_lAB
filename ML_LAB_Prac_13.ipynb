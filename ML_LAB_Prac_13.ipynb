{
  "cells": [
    {
      "cell_type": "markdown",
      "metadata": {
        "id": "view-in-github",
        "colab_type": "text"
      },
      "source": [
        "<a href=\"https://colab.research.google.com/github/AyushGupte-22/Machine_Learning_Lab_120/blob/main/ML_LAB_Prac_13.ipynb\" target=\"_parent\"><img src=\"https://colab.research.google.com/assets/colab-badge.svg\" alt=\"Open In Colab\"/></a>"
      ]
    },
    {
      "cell_type": "code",
      "execution_count": null,
      "id": "e99828ba-e701-4635-9279-6aa86d451b84",
      "metadata": {
        "id": "e99828ba-e701-4635-9279-6aa86d451b84",
        "outputId": "f732354b-6504-48e4-d82f-28338ece4154"
      },
      "outputs": [
        {
          "name": "stdout",
          "output_type": "stream",
          "text": [
            "Defaulting to user installation because normal site-packages is not writeable\n",
            "Collecting mlxtend\n",
            "  Downloading mlxtend-0.23.4-py3-none-any.whl.metadata (7.3 kB)\n",
            "Requirement already satisfied: scipy>=1.2.1 in c:\\programdata\\anaconda3\\lib\\site-packages (from mlxtend) (1.13.1)\n",
            "Requirement already satisfied: numpy>=1.16.2 in c:\\programdata\\anaconda3\\lib\\site-packages (from mlxtend) (1.26.4)\n",
            "Requirement already satisfied: pandas>=0.24.2 in c:\\programdata\\anaconda3\\lib\\site-packages (from mlxtend) (2.2.2)\n",
            "Requirement already satisfied: scikit-learn>=1.3.1 in c:\\programdata\\anaconda3\\lib\\site-packages (from mlxtend) (1.5.1)\n",
            "Requirement already satisfied: matplotlib>=3.0.0 in c:\\programdata\\anaconda3\\lib\\site-packages (from mlxtend) (3.9.2)\n",
            "Requirement already satisfied: joblib>=0.13.2 in c:\\programdata\\anaconda3\\lib\\site-packages (from mlxtend) (1.4.2)\n",
            "Requirement already satisfied: contourpy>=1.0.1 in c:\\programdata\\anaconda3\\lib\\site-packages (from matplotlib>=3.0.0->mlxtend) (1.2.0)\n",
            "Requirement already satisfied: cycler>=0.10 in c:\\programdata\\anaconda3\\lib\\site-packages (from matplotlib>=3.0.0->mlxtend) (0.11.0)\n",
            "Requirement already satisfied: fonttools>=4.22.0 in c:\\programdata\\anaconda3\\lib\\site-packages (from matplotlib>=3.0.0->mlxtend) (4.51.0)\n",
            "Requirement already satisfied: kiwisolver>=1.3.1 in c:\\programdata\\anaconda3\\lib\\site-packages (from matplotlib>=3.0.0->mlxtend) (1.4.4)\n",
            "Requirement already satisfied: packaging>=20.0 in c:\\programdata\\anaconda3\\lib\\site-packages (from matplotlib>=3.0.0->mlxtend) (24.1)\n",
            "Requirement already satisfied: pillow>=8 in c:\\programdata\\anaconda3\\lib\\site-packages (from matplotlib>=3.0.0->mlxtend) (10.4.0)\n",
            "Requirement already satisfied: pyparsing>=2.3.1 in c:\\programdata\\anaconda3\\lib\\site-packages (from matplotlib>=3.0.0->mlxtend) (3.1.2)\n",
            "Requirement already satisfied: python-dateutil>=2.7 in c:\\programdata\\anaconda3\\lib\\site-packages (from matplotlib>=3.0.0->mlxtend) (2.9.0.post0)\n",
            "Requirement already satisfied: pytz>=2020.1 in c:\\programdata\\anaconda3\\lib\\site-packages (from pandas>=0.24.2->mlxtend) (2024.1)\n",
            "Requirement already satisfied: tzdata>=2022.7 in c:\\programdata\\anaconda3\\lib\\site-packages (from pandas>=0.24.2->mlxtend) (2023.3)\n",
            "Requirement already satisfied: threadpoolctl>=3.1.0 in c:\\programdata\\anaconda3\\lib\\site-packages (from scikit-learn>=1.3.1->mlxtend) (3.5.0)\n",
            "Requirement already satisfied: six>=1.5 in c:\\programdata\\anaconda3\\lib\\site-packages (from python-dateutil>=2.7->matplotlib>=3.0.0->mlxtend) (1.16.0)\n",
            "Downloading mlxtend-0.23.4-py3-none-any.whl (1.4 MB)\n",
            "   ---------------------------------------- 0.0/1.4 MB ? eta -:--:--\n",
            "   ---------------------------------------- 1.4/1.4 MB 23.2 MB/s eta 0:00:00\n",
            "Installing collected packages: mlxtend\n",
            "Successfully installed mlxtend-0.23.4\n"
          ]
        }
      ],
      "source": [
        "!pip install mlxtend\n",
        "import pandas as pd\n",
        "from mlxtend.frequent_patterns import apriori, association_rules\n"
      ]
    },
    {
      "cell_type": "code",
      "execution_count": null,
      "id": "a2236d26-d4eb-4c59-90a1-1cb7b97dd9ee",
      "metadata": {
        "id": "a2236d26-d4eb-4c59-90a1-1cb7b97dd9ee"
      },
      "outputs": [],
      "source": [
        "#Each transaction is a list of items purchased together\n",
        "dataset = [\n",
        "    ['milk', 'bread', 'nuts', 'apple'],\n",
        "    ['milk', 'bread', 'nuts'],\n",
        "    ['milk', 'bread'],\n",
        "    ['milk', 'apple'],\n",
        "    ['bread', 'apple'],\n",
        "    ['milk', 'bread', 'apple'],\n",
        "    ['milk', 'bread', 'apple'],\n",
        "    ['bread', 'nuts']\n",
        "]"
      ]
    },
    {
      "cell_type": "code",
      "execution_count": null,
      "id": "8891b5c8-5d4b-4b04-9bff-042078703f5b",
      "metadata": {
        "id": "8891b5c8-5d4b-4b04-9bff-042078703f5b"
      },
      "outputs": [],
      "source": [
        "from mlxtend.preprocessing import TransactionEncoder\n",
        "te = TransactionEncoder()\n",
        "te_array = te.fit(dataset).transform(dataset)\n",
        "df = pd.DataFrame(te_array, columns = te.columns_)"
      ]
    },
    {
      "cell_type": "code",
      "execution_count": null,
      "id": "5fd4b86a-f77b-4288-bd1f-9d1b60c9be1d",
      "metadata": {
        "id": "5fd4b86a-f77b-4288-bd1f-9d1b60c9be1d",
        "outputId": "2d73f076-9d50-4190-d12b-c651d3ea42fe"
      },
      "outputs": [
        {
          "name": "stdout",
          "output_type": "stream",
          "text": [
            "One-Hot Encoded Transaction Data:\n",
            "   apple  bread   milk   nuts\n",
            "0   True   True   True   True\n",
            "1  False   True   True   True\n",
            "2  False   True   True  False\n",
            "3   True  False   True  False\n",
            "4   True   True  False  False\n",
            "5   True   True   True  False\n",
            "6   True   True   True  False\n",
            "7  False   True  False   True\n"
          ]
        }
      ],
      "source": [
        "print(\"One-Hot Encoded Transaction Data:\")\n",
        "print(df)"
      ]
    },
    {
      "cell_type": "code",
      "execution_count": null,
      "id": "ba086d63-76d8-43ff-9f6c-5f86751d3147",
      "metadata": {
        "id": "ba086d63-76d8-43ff-9f6c-5f86751d3147",
        "outputId": "a63e2536-cd8d-41cd-8e87-ff1fcd463a0d"
      },
      "outputs": [
        {
          "name": "stdout",
          "output_type": "stream",
          "text": [
            "\n",
            " Frequent Itemsets:\n",
            "   support              itemsets\n",
            "0    0.625               (apple)\n",
            "1    0.875               (bread)\n",
            "2    0.750                (milk)\n",
            "3    0.375                (nuts)\n",
            "4    0.500        (apple, bread)\n",
            "5    0.500         (apple, milk)\n",
            "6    0.625         (bread, milk)\n",
            "7    0.375         (nuts, bread)\n",
            "8    0.375  (apple, bread, milk)\n"
          ]
        }
      ],
      "source": [
        "frequent_itemsets = apriori(df, min_support=0.3, use_colnames=True)\n",
        "print(\"\\n Frequent Itemsets:\")\n",
        "print(frequent_itemsets)"
      ]
    },
    {
      "cell_type": "code",
      "execution_count": null,
      "id": "4fa169bb-ad10-4ffa-a084-b864c85ff8b6",
      "metadata": {
        "id": "4fa169bb-ad10-4ffa-a084-b864c85ff8b6",
        "outputId": "6bdc7663-91bc-447d-a4c9-b98480865db2"
      },
      "outputs": [
        {
          "name": "stdout",
          "output_type": "stream",
          "text": [
            "\n",
            " Association Rules:\n",
            "       antecedents     consequents  support  confidence      lift\n",
            "0          (apple)         (bread)    0.500    0.800000  0.914286\n",
            "1          (bread)         (apple)    0.500    0.571429  0.914286\n",
            "2          (apple)          (milk)    0.500    0.800000  1.066667\n",
            "3           (milk)         (apple)    0.500    0.666667  1.066667\n",
            "4          (bread)          (milk)    0.625    0.714286  0.952381\n",
            "5           (milk)         (bread)    0.625    0.833333  0.952381\n",
            "6           (nuts)         (bread)    0.375    1.000000  1.142857\n",
            "7          (bread)          (nuts)    0.375    0.428571  1.142857\n",
            "8   (apple, bread)          (milk)    0.375    0.750000  1.000000\n",
            "9    (apple, milk)         (bread)    0.375    0.750000  0.857143\n",
            "10   (bread, milk)         (apple)    0.375    0.600000  0.960000\n",
            "11         (apple)   (bread, milk)    0.375    0.600000  0.960000\n",
            "12         (bread)   (apple, milk)    0.375    0.428571  0.857143\n",
            "13          (milk)  (apple, bread)    0.375    0.500000  1.000000\n"
          ]
        }
      ],
      "source": [
        "rules = association_rules(frequent_itemsets, metric=\"lift\", min_threshold=0.1)\n",
        "print(\"\\n Association Rules:\")\n",
        "print(rules[['antecedents', 'consequents', 'support', 'confidence', 'lift']])"
      ]
    },
    {
      "cell_type": "code",
      "execution_count": null,
      "id": "f63a1b0b-2a3a-47c7-9eb3-2a6a79f2e79a",
      "metadata": {
        "id": "f63a1b0b-2a3a-47c7-9eb3-2a6a79f2e79a",
        "outputId": "99c41c6d-d16f-453d-bf4a-d786b99c624a"
      },
      "outputs": [
        {
          "name": "stdout",
          "output_type": "stream",
          "text": [
            "\n",
            " Top Rules by Lift:\n",
            "       antecedents     consequents  support  confidence      lift\n",
            "6           (nuts)         (bread)    0.375    1.000000  1.142857\n",
            "7          (bread)          (nuts)    0.375    0.428571  1.142857\n",
            "2          (apple)          (milk)    0.500    0.800000  1.066667\n",
            "3           (milk)         (apple)    0.500    0.666667  1.066667\n",
            "8   (apple, bread)          (milk)    0.375    0.750000  1.000000\n",
            "13          (milk)  (apple, bread)    0.375    0.500000  1.000000\n",
            "10   (bread, milk)         (apple)    0.375    0.600000  0.960000\n",
            "11         (apple)   (bread, milk)    0.375    0.600000  0.960000\n",
            "4          (bread)          (milk)    0.625    0.714286  0.952381\n",
            "5           (milk)         (bread)    0.625    0.833333  0.952381\n",
            "0          (apple)         (bread)    0.500    0.800000  0.914286\n",
            "1          (bread)         (apple)    0.500    0.571429  0.914286\n",
            "9    (apple, milk)         (bread)    0.375    0.750000  0.857143\n",
            "12         (bread)   (apple, milk)    0.375    0.428571  0.857143\n"
          ]
        }
      ],
      "source": [
        "rules = rules.sort_values(by='lift', ascending=False)\n",
        "print(\"\\n Top Rules by Lift:\")\n",
        "print(rules[['antecedents', 'consequents', 'support', 'confidence', 'lift']])"
      ]
    },
    {
      "cell_type": "code",
      "execution_count": null,
      "id": "224875c1-ab66-4a2a-83c9-645f537366f0",
      "metadata": {
        "id": "224875c1-ab66-4a2a-83c9-645f537366f0"
      },
      "outputs": [],
      "source": []
    }
  ],
  "metadata": {
    "kernelspec": {
      "display_name": "Python 3 (ipykernel)",
      "language": "python",
      "name": "python3"
    },
    "language_info": {
      "codemirror_mode": {
        "name": "ipython",
        "version": 3
      },
      "file_extension": ".py",
      "mimetype": "text/x-python",
      "name": "python",
      "nbconvert_exporter": "python",
      "pygments_lexer": "ipython3",
      "version": "3.12.7"
    },
    "colab": {
      "provenance": [],
      "include_colab_link": true
    }
  },
  "nbformat": 4,
  "nbformat_minor": 5
}